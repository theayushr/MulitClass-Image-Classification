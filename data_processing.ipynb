{
 "cells": [
  {
   "cell_type": "code",
   "execution_count": 46,
   "id": "7e2dc980",
   "metadata": {},
   "outputs": [],
   "source": [
    "from PIL import Image\n",
    "import os"
   ]
  },
  {
   "cell_type": "code",
   "execution_count": 47,
   "id": "087a498f",
   "metadata": {},
   "outputs": [],
   "source": [
    "input_directory = 'H:\\CSI\\Data Set\\Bicycle annotated/'\n",
    "output_directory = 'H:\\CSI\\Data Set\\Processed\\BiCycle DataSet/'\n",
    "os.makedirs(output_directory, exist_ok=True)"
   ]
  },
  {
   "cell_type": "code",
   "execution_count": 48,
   "id": "30d94405",
   "metadata": {},
   "outputs": [],
   "source": [
    "desired_size = (224, 224)\n",
    "\n",
    "for filename in os.listdir(input_directory):\n",
    "    if filename.endswith('.jpg') or filename.endswith('.png') or filename.endswith('.jpeg'):\n",
    "        image_path = os.path.join(input_directory, filename)\n",
    "        image = Image.open(image_path)\n",
    "        image = image.resize(desired_size, Image.LANCZOS)  # Use LANCZOS resampling\n",
    "        output_path = os.path.join(output_directory, filename)\n",
    "        image.save(output_path)"
   ]
  },
  {
   "cell_type": "code",
   "execution_count": null,
   "id": "ff58b49f",
   "metadata": {},
   "outputs": [],
   "source": []
  }
 ],
 "metadata": {
  "kernelspec": {
   "display_name": "Python 3 (ipykernel)",
   "language": "python",
   "name": "python3"
  },
  "language_info": {
   "codemirror_mode": {
    "name": "ipython",
    "version": 3
   },
   "file_extension": ".py",
   "mimetype": "text/x-python",
   "name": "python",
   "nbconvert_exporter": "python",
   "pygments_lexer": "ipython3",
   "version": "3.11.3"
  }
 },
 "nbformat": 4,
 "nbformat_minor": 5
}
