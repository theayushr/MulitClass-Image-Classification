{
 "cells": [
  {
   "cell_type": "code",
   "execution_count": 20,
   "id": "684a9b8b",
   "metadata": {},
   "outputs": [],
   "source": [
    "# Importing Libraries:\n",
    "\n",
    "from tensorflow.keras.preprocessing.image import ImageDataGenerator\n",
    "import os\n"
   ]
  },
  {
   "cell_type": "code",
   "execution_count": 21,
   "id": "0ac6565d",
   "metadata": {},
   "outputs": [],
   "source": [
    "# Directory Paths:\n",
    "\n",
    "train_dir = 'H:\\CSI\\Data Set\\Processed\\Training/'\n",
    "validation_dir = 'H:\\CSI\\Data Set\\Processed\\Validation/'\n"
   ]
  },
  {
   "cell_type": "code",
   "execution_count": 22,
   "id": "ac8e537a",
   "metadata": {},
   "outputs": [],
   "source": [
    "# Data Augmentation Parameters\n",
    "\n",
    "augmentation_params = {\n",
    "    'rescale': 1.0 / 255,\n",
    "    'rotation_range': 20,\n",
    "    'width_shift_range': 0.2,\n",
    "    'height_shift_range': 0.2,\n",
    "    'shear_range': 0.2,\n",
    "    'zoom_range': 0.2,\n",
    "    'horizontal_flip': True,\n",
    "    'fill_mode': 'nearest'\n",
    "}\n",
    "\n",
    "\n",
    "#augmentation_params is a Python dictionary that contains various parameters for data augmentation. \n",
    "#These parameters control how the training images will be augmented."
   ]
  },
  {
   "cell_type": "code",
   "execution_count": 23,
   "id": "b228db25",
   "metadata": {},
   "outputs": [],
   "source": [
    "# Create Data Generators with Data Augmentation:\n",
    "\n",
    "train_datagen = ImageDataGenerator(**augmentation_params)\n",
    "validation_datagen = ImageDataGenerator(rescale=1.0 / 255)\n"
   ]
  },
  {
   "cell_type": "code",
   "execution_count": 24,
   "id": "9e695fcf",
   "metadata": {},
   "outputs": [
    {
     "name": "stdout",
     "output_type": "stream",
     "text": [
      "Found 1548 images belonging to 5 classes.\n",
      "Found 10 images belonging to 5 classes.\n"
     ]
    }
   ],
   "source": [
    "# Flow Images from Directories and Apply Augmentation\n",
    "\n",
    "train_generator = train_datagen.flow_from_directory(\n",
    "    train_dir,\n",
    "    target_size=(224, 224),\n",
    "    batch_size=32,\n",
    "    class_mode='categorical'\n",
    ")\n",
    "\n",
    "validation_generator = validation_datagen.flow_from_directory(\n",
    "    validation_dir,\n",
    "    target_size=(224, 224),\n",
    "    batch_size=32,\n",
    "    class_mode='categorical'\n",
    ")\n"
   ]
  },
  {
   "cell_type": "code",
   "execution_count": null,
   "id": "26fb9d18",
   "metadata": {},
   "outputs": [],
   "source": []
  }
 ],
 "metadata": {
  "kernelspec": {
   "display_name": "Python 3 (ipykernel)",
   "language": "python",
   "name": "python3"
  },
  "language_info": {
   "codemirror_mode": {
    "name": "ipython",
    "version": 3
   },
   "file_extension": ".py",
   "mimetype": "text/x-python",
   "name": "python",
   "nbconvert_exporter": "python",
   "pygments_lexer": "ipython3",
   "version": "3.11.3"
  }
 },
 "nbformat": 4,
 "nbformat_minor": 5
}
